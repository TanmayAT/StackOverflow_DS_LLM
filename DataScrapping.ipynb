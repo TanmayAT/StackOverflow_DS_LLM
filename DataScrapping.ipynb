{
 "cells": [
  {
   "cell_type": "code",
   "execution_count": 3,
   "metadata": {},
   "outputs": [],
   "source": [
    "import requests \n",
    "import bs4\n",
    "import os"
   ]
  },
  {
   "cell_type": "code",
   "execution_count": 10,
   "metadata": {},
   "outputs": [],
   "source": [
    "import os\n",
    "import requests\n",
    "\n",
    "# Specify the folder path directly\n",
    "folder_path = r\"C:\\Users\\Vaidik\\Desktop\\StackOverflow_DS_LLM\\files\"\n",
    "\n",
    "# Create the folder to store files if it doesn't exist\n",
    "os.makedirs(folder_path, exist_ok=True)\n",
    "\n",
    "corpus = []\n",
    "\n",
    "for i in range(865):\n",
    "    try:\n",
    "        url = f\"https://stackoverflow.com/search?page={i}&tab=Relevance&pagesize=15&q=data%20science&searchOn=3\"  \n",
    "        response = requests.get(url)\n",
    "\n",
    "        if response.status_code == 200:\n",
    "            # Constructing file path\n",
    "            file_path = os.path.join(folder_path, f\"files{i}.html\")\n",
    "\n",
    "            # Writing response text to file\n",
    "            with open(file_path, 'w') as f:\n",
    "                f.write(response.text)\n",
    "\n",
    "            corpus.append(response.text)\n",
    "\n",
    "    except Exception as e:\n",
    "        print(f\"Error processing URL {url}: {e}\")\n",
    "\n",
    "# Do whatever you want with the corpus\n"
   ]
  },
  {
   "cell_type": "code",
   "execution_count": null,
   "metadata": {},
   "outputs": [],
   "source": [
    "import bs4 \n",
    "\n",
    "soup = bs4.BeautifulSoup(corpus)\n",
    "\n"
   ]
  }
 ],
 "metadata": {
  "kernelspec": {
   "display_name": "base",
   "language": "python",
   "name": "python3"
  },
  "language_info": {
   "codemirror_mode": {
    "name": "ipython",
    "version": 3
   },
   "file_extension": ".py",
   "mimetype": "text/x-python",
   "name": "python",
   "nbconvert_exporter": "python",
   "pygments_lexer": "ipython3",
   "version": "3.11.8"
  }
 },
 "nbformat": 4,
 "nbformat_minor": 2
}
